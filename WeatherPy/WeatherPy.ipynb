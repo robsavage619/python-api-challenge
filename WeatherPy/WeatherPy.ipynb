{
 "cells": [
  {
   "cell_type": "markdown",
   "metadata": {},
   "source": [
    "# WeatherPy\n",
    "----\n",
    "\n",
    "#### Note\n",
    "* Instructions have been included for each segment. You do not have to follow them exactly, but they are included to help you think through the steps."
   ]
  },
  {
   "cell_type": "code",
   "execution_count": 51,
   "metadata": {
    "scrolled": true
   },
   "outputs": [],
   "source": [
    "# Dependencies and Setup\n",
    "import matplotlib.pyplot as plt\n",
    "import pandas as pd\n",
    "import numpy as np\n",
    "import requests\n",
    "import time\n",
    "import json\n",
    "from scipy import stats\n",
    "from scipy.stats import linregress\n",
    "\n",
    "# Import API key\n",
    "from api_keys import weather_api_key\n",
    "\n",
    "# Incorporated citipy to determine city based on latitude and longitude\n",
    "from citipy import citipy\n",
    "\n",
    "# Output File (CSV)\n",
    "output_data_file = \"output_data/cities.csv\"\n",
    "\n",
    "# Range of latitudes and longitudes\n",
    "lat_range = (-90, 90)\n",
    "lng_range = (-180, 180)"
   ]
  },
  {
   "cell_type": "markdown",
   "metadata": {},
   "source": [
    "## Generate Cities List"
   ]
  },
  {
   "cell_type": "code",
   "execution_count": 7,
   "metadata": {},
   "outputs": [
    {
     "data": {
      "text/plain": [
       "619"
      ]
     },
     "execution_count": 7,
     "metadata": {},
     "output_type": "execute_result"
    }
   ],
   "source": [
    "# List for holding lat_lngs and cities\n",
    "lat_lngs = []\n",
    "cities = []\n",
    "\n",
    "# Create a set of random lat and lng combinations\n",
    "lats = np.random.uniform(lat_range[0], lat_range[1], size=1500)\n",
    "lngs = np.random.uniform(lng_range[0], lng_range[1], size=1500)\n",
    "lat_lngs = zip(lats, lngs)\n",
    "\n",
    "# Identify nearest city for each lat, lng combination\n",
    "for lat_lng in lat_lngs:\n",
    "    city = citipy.nearest_city(lat_lng[0], lat_lng[1]).city_name\n",
    "    \n",
    "    # If the city is unique, then add it to a our cities list\n",
    "    if city not in cities:\n",
    "        cities.append(city)\n",
    "\n",
    "# Print the city count to confirm sufficient count\n",
    "len(cities)"
   ]
  },
  {
   "cell_type": "markdown",
   "metadata": {},
   "source": [
    "### Perform API Calls\n",
    "* Perform a weather check on each city using a series of successive API calls.\n",
    "* Include a print log of each city as it'sbeing processed (with the city number and city name).\n"
   ]
  },
  {
   "cell_type": "code",
   "execution_count": 13,
   "metadata": {
    "scrolled": true
   },
   "outputs": [
    {
     "name": "stdout",
     "output_type": "stream",
     "text": [
      "Beginning Data Retrieval\n",
      "-------------------------------\n",
      "Processing Record 1 | Busselton\n",
      "Processing Record 2 | Mandlā\n",
      "City not found. Skipping...\n",
      "Processing Record 3 | Upernavik\n",
      "Processing Record 4 | Kapaa\n",
      "Processing Record 5 | Olafsvik\n",
      "City not found. Skipping...\n",
      "Processing Record 6 | Hermanus\n",
      "Processing Record 7 | Atuona\n",
      "Processing Record 8 | Barrow\n",
      "Processing Record 9 | Tiksi\n",
      "Processing Record 10 | Butaritari\n",
      "Processing Record 11 | Slavonski Brod\n",
      "Processing Record 12 | Lorengau\n",
      "Processing Record 13 | Hatton\n",
      "Processing Record 14 | Touros\n",
      "Processing Record 15 | Lavrentiya\n",
      "Processing Record 16 | Vaini\n",
      "Processing Record 17 | Haysville\n",
      "Processing Record 18 | Tanout\n",
      "Processing Record 19 | Boa Vista\n",
      "Processing Record 20 | Pevek\n",
      "City not found. Skipping...\n",
      "Processing Record 21 | Ushuaia\n",
      "Processing Record 22 | Sivaki\n",
      "Processing Record 23 | Puerto Ayora\n",
      "City not found. Skipping...\n",
      "Processing Record 24 | Kushima\n",
      "Processing Record 25 | Bredasdorp\n",
      "Processing Record 26 | Tilichiki\n",
      "Processing Record 27 | Albany\n",
      "Processing Record 28 | Asău\n",
      "Processing Record 29 | Drumheller\n",
      "Processing Record 30 | Namtsy\n",
      "Processing Record 31 | Bluff\n",
      "City not found. Skipping...\n",
      "Processing Record 32 | Isangel\n",
      "Processing Record 33 | Saint-Joseph\n",
      "Processing Record 34 | Mayumba\n",
      "Processing Record 35 | Saint Paul Harbor\n",
      "Processing Record 36 | Muros\n",
      "Processing Record 37 | Mataura\n",
      "City not found. Skipping...\n",
      "Processing Record 38 | Nikolskoye\n",
      "Processing Record 39 | Adré\n",
      "Processing Record 40 | Lompoc\n",
      "Processing Record 41 | Kaitangata\n",
      "Processing Record 42 | Tuatapere\n",
      "Processing Record 43 | Salalah\n",
      "Processing Record 44 | Nicoya\n",
      "Processing Record 45 | Narsaq\n",
      "Processing Record 46 | East London\n",
      "Processing Record 47 | Hong Kong\n",
      "Processing Record 48 | Saint-Augustin\n",
      "Processing Record 49 | Leningradskiy\n",
      "Processing Record 50 | Clyde River\n",
      "Processing Record 51 | Longyearbyen\n",
      "Processing Record 52 | Rikitea\n",
      "Processing Record 53 | Hasaki\n",
      "Processing Record 54 | Havelock\n",
      "Processing Record 55 | Saskylakh\n",
      "Processing Record 56 | Hobart\n",
      "City not found. Skipping...\n",
      "Processing Record 57 | Guozhen\n",
      "City not found. Skipping...\n",
      "Processing Record 58 | Sungai Penuh\n",
      "Processing Record 59 | Tarko-Sale\n",
      "Processing Record 60 | San Quintín\n",
      "Processing Record 61 | Kudahuvadhoo\n",
      "Processing Record 62 | Severo-Kuril'sk\n",
      "Processing Record 63 | Khatanga\n",
      "Processing Record 64 | Muroto-misakicho\n",
      "Processing Record 65 | Cabo San Lucas\n",
      "Processing Record 66 | Vicuña\n",
      "Processing Record 67 | Mahébourg\n",
      "Processing Record 68 | São Félix do Xingu\n",
      "Processing Record 69 | Areosa\n",
      "City not found. Skipping...\n",
      "Processing Record 70 | Kahului\n",
      "Processing Record 71 | Isernia\n",
      "Processing Record 72 | Hilo\n",
      "Processing Record 73 | Denpasar\n",
      "City not found. Skipping...\n",
      "Processing Record 74 | Souillac\n",
      "Processing Record 75 | Teguise\n",
      "Processing Record 76 | Peniche\n",
      "Processing Record 77 | Hithadhoo\n",
      "Processing Record 78 | Te Anau\n",
      "Processing Record 79 | Mabaruma\n",
      "Processing Record 80 | Kruisfontein\n",
      "Processing Record 81 | Cape Town\n",
      "Processing Record 82 | Qasigiannguit\n",
      "Processing Record 83 | Chapleau\n",
      "Processing Record 84 | Shubarshi\n",
      "Processing Record 85 | Kibaya\n",
      "Processing Record 86 | Ouésso\n",
      "Processing Record 87 | Marawi\n",
      "Processing Record 88 | Vila Franca do Campo\n",
      "Processing Record 89 | Saint-Philippe\n",
      "Processing Record 90 | Port Blair\n",
      "Processing Record 91 | Yaan\n",
      "Processing Record 92 | Yashalta\n",
      "Processing Record 93 | Mezen'\n",
      "City not found. Skipping...\n",
      "Processing Record 94 | Amparafaravola\n",
      "Processing Record 95 | Ilulissat\n",
      "Processing Record 96 | Yellowknife\n",
      "Processing Record 97 | Santa Maria\n",
      "Processing Record 98 | Tairua\n",
      "Processing Record 99 | Chokurdakh\n",
      "City not found. Skipping...\n",
      "Processing Record 100 | Puerto Escondido\n",
      "City not found. Skipping...\n",
      "Processing Record 101 | Jiaojiang\n",
      "Processing Record 102 | Mossamedes\n",
      "Processing Record 103 | Ubinskoye\n",
      "Processing Record 104 | Punta Arenas\n",
      "Processing Record 105 | Amapá\n",
      "Processing Record 106 | Avarua\n",
      "Processing Record 107 | Calvinia\n",
      "City not found. Skipping...\n",
      "Processing Record 108 | Mount Gambier\n",
      "Processing Record 109 | Acapulco de Juárez\n",
      "Processing Record 110 | Pacific Grove\n",
      "City not found. Skipping...\n",
      "Processing Record 111 | Esperance\n",
      "Processing Record 112 | Prainha\n",
      "Processing Record 113 | Cherskiy\n",
      "Processing Record 114 | Innisfail\n",
      "City not found. Skipping...\n",
      "Processing Record 115 | Carnarvon\n",
      "Processing Record 116 | George Town\n",
      "Processing Record 117 | Sitka\n",
      "Processing Record 118 | Saldanha\n",
      "Processing Record 119 | Broome\n",
      "Processing Record 120 | Indianola\n",
      "Processing Record 121 | Rudnyy\n",
      "Processing Record 122 | Kalmunai\n",
      "Processing Record 123 | Tasiilaq\n",
      "Processing Record 124 | Alyangula\n",
      "Processing Record 125 | Pemangkat\n",
      "Processing Record 126 | Seoul\n",
      "Processing Record 127 | Biak\n",
      "Processing Record 128 | Ostrovnoy\n",
      "Processing Record 129 | Suileng\n",
      "City not found. Skipping...\n",
      "Processing Record 130 | Progreso\n",
      "Processing Record 131 | Quang Ngai\n",
      "Processing Record 132 | Bela\n",
      "Processing Record 133 | Castro\n",
      "Processing Record 134 | Pierre\n",
      "Processing Record 135 | Talnakh\n",
      "Processing Record 136 | Oranjestad\n",
      "Processing Record 137 | Aktobe\n",
      "Processing Record 138 | Flinders\n",
      "Processing Record 139 | Guerrero Negro\n",
      "Processing Record 140 | Westerland\n",
      "Processing Record 141 | Airai\n",
      "Processing Record 142 | Husavik\n",
      "Processing Record 143 | Kouroussa\n",
      "Processing Record 144 | Port Alfred\n",
      "Processing Record 145 | Gorontalo\n",
      "Processing Record 146 | Teya\n",
      "Processing Record 147 | Tayport\n",
      "Processing Record 148 | Corinth\n",
      "Processing Record 149 | Cape Canaveral\n",
      "City not found. Skipping...\n",
      "Processing Record 150 | Bathsheba\n",
      "Processing Record 151 | Messina\n",
      "Processing Record 152 | Jamestown\n",
      "Processing Record 153 | São José da Coroa Grande\n",
      "Processing Record 154 | Spoleto\n",
      "Processing Record 155 | Selikhino\n",
      "Processing Record 156 | Margate\n",
      "Processing Record 157 | Kabinda\n",
      "Processing Record 158 | Torbay\n",
      "City not found. Skipping...\n",
      "Processing Record 159 | Lagoa\n",
      "Processing Record 160 | São Filipe\n",
      "Processing Record 161 | Doha\n",
      "Processing Record 162 | Kilrush\n",
      "Processing Record 163 | Fortuna\n",
      "City not found. Skipping...\n",
      "Processing Record 164 | Kyra\n",
      "Processing Record 165 | Constitución\n",
      "City not found. Skipping...\n",
      "Processing Record 166 | Qaanaaq\n",
      "Processing Record 167 | Parchim\n",
      "Processing Record 168 | Norman Wells\n",
      "Processing Record 169 | Inuvik\n",
      "Processing Record 170 | Nome\n",
      "Processing Record 171 | Coquimbo\n",
      "Processing Record 172 | Dongsheng\n",
      "City not found. Skipping...\n",
      "Processing Record 173 | Lismore\n",
      "Processing Record 174 | Kirkwall\n",
      "Processing Record 175 | Stornoway\n",
      "Processing Record 176 | Beloha\n",
      "Processing Record 177 | Tura\n",
      "Processing Record 178 | Naze\n",
      "City not found. Skipping...\n",
      "Processing Record 179 | Erdemli\n",
      "Processing Record 180 | Avilés\n",
      "Processing Record 181 | Elliot\n",
      "Processing Record 182 | Mount Isa\n",
      "Processing Record 183 | Oranjemund\n",
      "Processing Record 184 | Kabansk\n",
      "Processing Record 185 | Iqaluit\n",
      "Processing Record 186 | Rørvik\n",
      "Processing Record 187 | Skjervøy\n",
      "Processing Record 188 | Matadi\n",
      "Processing Record 189 | Qaqortoq\n",
      "Processing Record 190 | Katsuura\n",
      "Processing Record 191 | Porto Murtinho\n",
      "Processing Record 192 | Anūpgarh\n",
      "Processing Record 193 | Russell\n",
      "Processing Record 194 | Aksu\n",
      "City not found. Skipping...\n",
      "Processing Record 195 | Lebu\n",
      "Processing Record 196 | Severnyy\n",
      "City not found. Skipping...\n",
      "Processing Record 197 | Dikson\n",
      "Processing Record 198 | Gamba\n",
      "Processing Record 199 | Buraidah\n",
      "City not found. Skipping...\n",
      "Processing Record 200 | Kunashak\n",
      "Processing Record 201 | Utete\n",
      "Processing Record 202 | Chui\n",
      "City not found. Skipping...\n",
      "Processing Record 203 | Karasjok\n",
      "Processing Record 204 | Sistranda\n",
      "Processing Record 205 | Berlevåg\n",
      "Processing Record 206 | Obra\n",
      "Processing Record 207 | Los Llanos de Aridane\n",
      "Processing Record 208 | Pundaguitan\n",
      "Processing Record 209 | Altus\n",
      "Processing Record 210 | Dhidhdhoo\n",
      "Processing Record 211 | La Paz\n",
      "Processing Record 212 | Nelson Bay\n",
      "Processing Record 213 | Santa Cruz Cabrália\n",
      "Processing Record 214 | Kloulklubed\n",
      "Processing Record 215 | Adrar\n",
      "Processing Record 216 | Ghanzi\n",
      "Processing Record 217 | Pujilí\n",
      "Processing Record 218 | Kisangani\n",
      "Processing Record 219 | Port Hardy\n",
      "Processing Record 220 | Vila\n",
      "Processing Record 221 | Bugiri\n",
      "Processing Record 222 | Yeppoon\n",
      "Processing Record 223 | Aklavik\n",
      "City not found. Skipping...\n",
      "Processing Record 224 | Zima\n"
     ]
    },
    {
     "name": "stdout",
     "output_type": "stream",
     "text": [
      "Processing Record 225 | Baykit\n",
      "City not found. Skipping...\n",
      "Processing Record 226 | Nuuk\n",
      "Processing Record 227 | Itoman\n",
      "Processing Record 228 | Faanui\n",
      "Processing Record 229 | Chicama\n",
      "Processing Record 230 | New Norfolk\n",
      "Processing Record 231 | Arraial do Cabo\n",
      "Processing Record 232 | Nassau\n",
      "Processing Record 233 | Ponta do Sol\n",
      "Processing Record 234 | Thompson\n",
      "Processing Record 235 | Verkhnyaya Sysert’\n",
      "Processing Record 236 | Praia da Vitória\n",
      "Processing Record 237 | Bariloche\n",
      "Processing Record 238 | Pecos\n",
      "Processing Record 239 | Murbād\n",
      "Processing Record 240 | Otavi\n",
      "Processing Record 241 | Marck\n",
      "Processing Record 242 | Kaniama\n",
      "Processing Record 243 | Vanimo\n",
      "Processing Record 244 | Fort-Shevchenko\n",
      "Processing Record 245 | Sur\n",
      "City not found. Skipping...\n",
      "Processing Record 246 | Havre-St-Pierre\n",
      "Processing Record 247 | La Romana\n",
      "Processing Record 248 | La Rioja\n",
      "Processing Record 249 | Arak\n",
      "City not found. Skipping...\n",
      "Processing Record 250 | Esmeraldas\n",
      "Processing Record 251 | Isla Mujeres\n",
      "Processing Record 252 | Bhīnmāl\n",
      "Processing Record 253 | Lokoja\n",
      "Processing Record 254 | Moree\n",
      "Processing Record 255 | Mahibadhoo\n",
      "Processing Record 256 | Devonport\n",
      "Processing Record 257 | Porto Feliz\n",
      "Processing Record 258 | Oelde\n",
      "Processing Record 259 | Taoudenni\n",
      "City not found. Skipping...\n",
      "Processing Record 260 | Vila Velha\n",
      "Processing Record 261 | Muisne\n",
      "Processing Record 262 | Tuktoyaktuk\n",
      "Processing Record 263 | Cidreira\n",
      "Processing Record 264 | Paamiut\n",
      "Processing Record 265 | Auki\n",
      "Processing Record 266 | Mar del Plata\n",
      "Processing Record 267 | Vardø\n",
      "Processing Record 268 | Carutapera\n",
      "Processing Record 269 | Wewak\n",
      "Processing Record 270 | Saint George\n",
      "Processing Record 271 | Otjiwarongo\n",
      "Processing Record 272 | Djebeniana\n",
      "Processing Record 273 | Bambous Virieux\n",
      "Processing Record 274 | Buala\n",
      "Processing Record 275 | Sobolevo\n",
      "Processing Record 276 | Castelldefels\n",
      "Processing Record 277 | Esim\n",
      "Processing Record 278 | Bethel\n",
      "Processing Record 279 | Comodoro Rivadavia\n",
      "Processing Record 280 | Caravelas\n",
      "Processing Record 281 | Gogrial\n",
      "Processing Record 282 | Codrington\n",
      "Processing Record 283 | Kirando\n",
      "Processing Record 284 | Sharan\n",
      "Processing Record 285 | Nerchinskiy Zavod\n",
      "Processing Record 286 | Karema\n",
      "Processing Record 287 | Veriora\n",
      "Processing Record 288 | Tommot\n",
      "Processing Record 289 | Cayenne\n",
      "Processing Record 290 | Ahipara\n",
      "Processing Record 291 | Rawson\n",
      "Processing Record 292 | Morondava\n",
      "Processing Record 293 | Gobabis\n",
      "City not found. Skipping...\n",
      "Processing Record 294 | Waingapu\n",
      "Processing Record 295 | Santiago del Estero\n",
      "Processing Record 296 | Karratha\n",
      "Processing Record 297 | Gizo Government Station\n",
      "Processing Record 298 | Mantenópolis\n",
      "Processing Record 299 | Tonantins\n",
      "Processing Record 300 | Nizwá\n",
      "Processing Record 301 | Aksarka\n",
      "Processing Record 302 | Provideniya\n",
      "Processing Record 303 | Kemlya\n",
      "Processing Record 304 | Alausí\n",
      "Processing Record 305 | Mazatlán\n",
      "Processing Record 306 | Sorong\n",
      "Processing Record 307 | Wajir\n",
      "Processing Record 308 | College\n",
      "Processing Record 309 | Champerico\n",
      "City not found. Skipping...\n",
      "Processing Record 310 | Luan\n",
      "Processing Record 311 | Salinas\n",
      "Processing Record 312 | Ribeira Grande\n",
      "Processing Record 313 | Saint-Pierre\n",
      "Processing Record 314 | Āmli\n",
      "Processing Record 315 | Plainview\n",
      "Processing Record 316 | Henties Bay\n",
      "Processing Record 317 | Nanortalik\n",
      "Processing Record 318 | Bengkulu\n",
      "Processing Record 319 | Vostok\n",
      "Processing Record 320 | Mitsamiouli\n",
      "Processing Record 321 | Ixtapa\n",
      "Processing Record 322 | Cedar City\n",
      "Processing Record 323 | Bairiki Village\n",
      "Processing Record 324 | Ribeira Brava\n",
      "Processing Record 325 | Laguna\n",
      "Processing Record 326 | Mersing\n",
      "Processing Record 327 | Mayo\n",
      "Processing Record 328 | Kasongo-Lunda\n",
      "Processing Record 329 | Saint Anthony\n",
      "Processing Record 330 | Koshki\n",
      "Processing Record 331 | Grootfontein\n",
      "City not found. Skipping...\n",
      "Processing Record 332 | Arrondissement d'Ajaccio\n",
      "Processing Record 333 | Dolores\n",
      "Processing Record 334 | Kologriv\n",
      "Processing Record 335 | Hobyo\n",
      "Processing Record 336 | Plettenberg Bay\n",
      "Processing Record 337 | Zatoka\n",
      "Processing Record 338 | Bereket\n",
      "Processing Record 339 | Huancavelica\n",
      "Processing Record 340 | Cabedelo\n",
      "Processing Record 341 | Nālūt\n",
      "Processing Record 342 | Manokwari\n",
      "Processing Record 343 | Udachny\n",
      "Processing Record 344 | Fairbanks\n",
      "Processing Record 345 | Port Elizabeth\n",
      "City not found. Skipping...\n",
      "Processing Record 346 | Martapura\n",
      "Processing Record 347 | Harrismith\n",
      "City not found. Skipping...\n",
      "City not found. Skipping...\n",
      "Processing Record 348 | Tailai\n",
      "Processing Record 349 | Sayyan\n",
      "Processing Record 350 | Palomares\n",
      "Processing Record 351 | Jamālpur\n",
      "Processing Record 352 | Beringovskiy\n",
      "Processing Record 353 | Dve Mogili\n",
      "Processing Record 354 | Paraíso\n",
      "Processing Record 355 | Rio Grande\n",
      "Processing Record 356 | Dneprovskaya\n",
      "Processing Record 357 | Lüderitz\n",
      "Processing Record 358 | Deputatsky\n",
      "Processing Record 359 | Mareeba\n",
      "Processing Record 360 | Bonavista\n",
      "Processing Record 361 | Starkville\n",
      "Processing Record 362 | Milazzo\n",
      "Processing Record 363 | Brigantine\n",
      "Processing Record 364 | Bar Harbor\n",
      "Processing Record 365 | Beipiao\n",
      "Processing Record 366 | Pudozh\n",
      "Processing Record 367 | Oussouye\n",
      "Processing Record 368 | Kavieng\n",
      "Processing Record 369 | Brae\n",
      "Processing Record 370 | Honiara\n",
      "Processing Record 371 | Camacha\n",
      "Processing Record 372 | Westport\n",
      "Processing Record 373 | Batemans Bay\n",
      "Processing Record 374 | Raduzhny\n",
      "Processing Record 375 | Napāsar\n",
      "Processing Record 376 | Lamu\n",
      "Processing Record 377 | Puerto Cabezas\n",
      "Processing Record 378 | Villazón\n",
      "Processing Record 379 | Kodinsk\n",
      "Processing Record 380 | Kvarkeno\n",
      "Processing Record 381 | Tambacounda\n",
      "Processing Record 382 | Eureka\n",
      "Processing Record 383 | Hirara\n",
      "Processing Record 384 | Bāneh\n",
      "Processing Record 385 | Korāput\n",
      "Processing Record 386 | Panabá\n",
      "Processing Record 387 | Vawkavysk\n",
      "Processing Record 388 | Zhigansk\n",
      "Processing Record 389 | Port Augusta\n",
      "Processing Record 390 | Evinayong\n",
      "Processing Record 391 | Kedrovyy\n",
      "Processing Record 392 | Zhangjiakou\n",
      "Processing Record 393 | Kikuchi\n",
      "City not found. Skipping...\n",
      "Processing Record 394 | Waipawa\n",
      "Processing Record 395 | Palauig\n",
      "Processing Record 396 | Phalombe\n",
      "Processing Record 397 | Sainte-Rose\n",
      "Processing Record 398 | Chibombo\n",
      "Processing Record 399 | São Miguel do Araguaia\n",
      "Processing Record 400 | Alekseyevsk\n",
      "Processing Record 401 | Chifeng\n",
      "Processing Record 402 | Omboué\n",
      "Processing Record 403 | Prieska\n",
      "Processing Record 404 | Raudeberg\n",
      "Processing Record 405 | Laas\n",
      "Processing Record 406 | Smithers\n",
      "City not found. Skipping...\n",
      "Processing Record 407 | Barranca\n",
      "Processing Record 408 | Krasnosel'kup\n",
      "Processing Record 409 | Morehead\n",
      "Processing Record 410 | Arlit\n",
      "Processing Record 411 | Kathu\n",
      "Processing Record 412 | Labuhan\n",
      "Processing Record 413 | Candolim\n",
      "Processing Record 414 | Tutóia\n",
      "Processing Record 415 | Geraldton\n",
      "Processing Record 416 | Bariri\n",
      "Processing Record 417 | Moche\n",
      "Processing Record 418 | Grants Pass\n",
      "Processing Record 419 | Coahuayana Viejo\n",
      "Processing Record 420 | Takoradze\n",
      "City not found. Skipping...\n",
      "Processing Record 421 | Abu Dhabi\n",
      "Processing Record 422 | Grindavik\n",
      "Processing Record 423 | Liverpool\n",
      "Processing Record 424 | Shitanjing\n",
      "Processing Record 425 | Miraflores\n",
      "Processing Record 426 | Horsham\n",
      "Processing Record 427 | Acaraú\n",
      "Processing Record 428 | Imbituba\n",
      "Processing Record 429 | Magadan\n",
      "Processing Record 430 | Coracora\n",
      "Processing Record 431 | Arrondissement de Vire\n",
      "City not found. Skipping...\n",
      "Processing Record 432 | Samarinda\n",
      "Processing Record 433 | Pangnirtung\n",
      "Processing Record 434 | Nemuro\n",
      "Processing Record 435 | Santa Cruz\n",
      "Processing Record 436 | Kargil\n",
      "Processing Record 437 | Kavaratti\n",
      "Processing Record 438 | Tieli\n",
      "City not found. Skipping...\n",
      "City not found. Skipping...\n",
      "Processing Record 439 | Kawalu\n",
      "Processing Record 440 | Makakilo City\n",
      "Processing Record 441 | Dingle\n",
      "Processing Record 442 | Jumla\n",
      "Processing Record 443 | Yeniseysk\n",
      "Processing Record 444 | Lodja\n",
      "Processing Record 445 | Srednekolymsk\n",
      "Processing Record 446 | Banes\n",
      "Processing Record 447 | Yurimaguas\n",
      "Processing Record 448 | Aban\n",
      "City not found. Skipping...\n",
      "Processing Record 449 | Potosí\n",
      "Processing Record 450 | Lidköping\n",
      "Processing Record 451 | Kabalo\n",
      "Processing Record 452 | Puerto Carreño\n",
      "City not found. Skipping...\n",
      "Processing Record 453 | Eyl\n",
      "Processing Record 454 | Santa Isabel Rio Negro\n",
      "Processing Record 455 | Yatou\n"
     ]
    },
    {
     "name": "stdout",
     "output_type": "stream",
     "text": [
      "Processing Record 456 | Ancud\n",
      "Processing Record 457 | Fes\n",
      "Processing Record 458 | Yangi Marg`ilon\n",
      "Processing Record 459 | Ponta Delgada\n",
      "Processing Record 460 | Tōbetsu\n",
      "Processing Record 461 | Nārsingi\n",
      "Processing Record 462 | Sept-Îles\n",
      "Processing Record 463 | Chiredzi\n",
      "Processing Record 464 | San Isidro\n",
      "Processing Record 465 | Ayan\n",
      "Processing Record 466 | Teeli\n",
      "Processing Record 467 | Sibolga\n",
      "City not found. Skipping...\n",
      "Processing Record 468 | Magalia\n",
      "Processing Record 469 | Anastácio\n",
      "Processing Record 470 | Władysławowo\n",
      "City not found. Skipping...\n",
      "Processing Record 471 | Dorokhovo\n",
      "Processing Record 472 | General Roca\n",
      "Processing Record 473 | Bilma\n",
      "Processing Record 474 | Fort Nelson\n",
      "Processing Record 475 | Okha\n",
      "Processing Record 476 | Bay Roberts\n",
      "City not found. Skipping...\n",
      "Processing Record 477 | Nikel\n",
      "Processing Record 478 | Troutdale\n",
      "Processing Record 479 | Tabou\n",
      "Processing Record 480 | San Cristobal\n",
      "Processing Record 481 | Scarborough\n",
      "Processing Record 482 | Kattivākkam\n",
      "Processing Record 483 | Hamilton\n",
      "Processing Record 484 | Kozhva\n",
      "Processing Record 485 | Tazovsky\n",
      "Processing Record 486 | Fildu de Jos\n",
      "Processing Record 487 | Mt. Pleasant\n",
      "Processing Record 488 | Forrest City\n",
      "Processing Record 489 | Sablé-sur-Sarthe\n",
      "Processing Record 490 | Lālsot\n",
      "Processing Record 491 | Pangody\n",
      "Processing Record 492 | Kotido\n",
      "Processing Record 493 | Yanam\n",
      "Processing Record 494 | Mandan\n",
      "Processing Record 495 | Whittlesea\n",
      "Processing Record 496 | Teknāf\n",
      "City not found. Skipping...\n",
      "Processing Record 497 | Bolaños de Calatrava\n",
      "Processing Record 498 | Vilhena\n",
      "Processing Record 499 | Alice Springs\n",
      "Processing Record 500 | Swan Hill\n",
      "Processing Record 501 | Ketchikan\n",
      "Processing Record 502 | Sawākin\n",
      "Processing Record 503 | Ardahan\n",
      "Processing Record 504 | Deer Lake\n",
      "Processing Record 505 | Markala\n",
      "Processing Record 506 | Woodward\n",
      "Processing Record 507 | Malm\n",
      "Processing Record 508 | Antalaha\n",
      "Processing Record 509 | Meshcherino\n",
      "Processing Record 510 | Klaksvík\n",
      "Processing Record 511 | Gospić\n",
      "Processing Record 512 | Bandarbeyla\n",
      "Processing Record 513 | Yuza\n",
      "Processing Record 514 | Zabul Province\n",
      "Processing Record 515 | Domoni\n",
      "Processing Record 516 | Izhma\n",
      "Processing Record 517 | Omsukchan\n",
      "Processing Record 518 | Caucayá\n",
      "City not found. Skipping...\n",
      "Processing Record 519 | Zhangye\n",
      "Processing Record 520 | Lages\n",
      "Processing Record 521 | Umeå\n",
      "Processing Record 522 | Khilok\n",
      "Processing Record 523 | Cheney\n",
      "Processing Record 524 | El Bordo\n",
      "Processing Record 525 | Nouadhibou\n",
      "Processing Record 526 | Itaqui\n",
      "Processing Record 527 | Yumen\n",
      "Processing Record 528 | Murdochville\n",
      "Processing Record 529 | Yar-Sale\n",
      "Processing Record 530 | Roald\n",
      "Processing Record 531 | Tezu\n",
      "Processing Record 532 | Atar\n",
      "Processing Record 533 | Richards Bay\n",
      "Processing Record 534 | Talaya\n",
      "Processing Record 535 | Anadyr\n",
      "Processing Record 536 | Teavaro\n",
      "Processing Record 537 | Manta\n",
      "Processing Record 538 | Nadym\n",
      "Processing Record 539 | Porbandar\n",
      "Processing Record 540 | Maracás\n",
      "Processing Record 541 | Talagang\n",
      "Processing Record 542 | Zaoyang\n",
      "Processing Record 543 | Bontang\n",
      "Processing Record 544 | Mīzan Teferī\n",
      "Processing Record 545 | Derzhavīnsk\n",
      "Processing Record 546 | Pontianak\n",
      "Processing Record 547 | Klyuchi\n",
      "Processing Record 548 | Huarmey\n",
      "City not found. Skipping...\n",
      "Processing Record 549 | Turukhansk\n",
      "City not found. Skipping...\n",
      "City not found. Skipping...\n",
      "Processing Record 550 | Mattru\n",
      "Processing Record 551 | Korla\n",
      "Processing Record 552 | Mwinilunga\n",
      "City not found. Skipping...\n",
      "Processing Record 553 | Beisfjord\n",
      "Processing Record 554 | Hofn\n",
      "Processing Record 555 | Halifax\n",
      "Processing Record 556 | Mangalore\n",
      "Processing Record 557 | Paragominas\n",
      "Processing Record 558 | Kumul\n",
      "Processing Record 559 | Kirakira\n",
      "Processing Record 560 | Emilio Carranza\n",
      "City not found. Skipping...\n",
      "Processing Record 561 | Chumikan\n",
      "Processing Record 562 | Mehamn\n",
      "Processing Record 563 | Socorro\n",
      "-------------------------------\n",
      "Data Retrieval Complete\n",
      "-------------------------------\n"
     ]
    }
   ],
   "source": [
    "# Setting Up URLs and units preference\n",
    "url = \"http://api.openweathermap.org/data/2.5/weather?\"\n",
    "units = 'imperial'\n",
    "\n",
    "\n",
    "# Create empty lists to place information from API\n",
    "\n",
    "lng = []\n",
    "lat = []\n",
    "city_name = []\n",
    "temp_high = []\n",
    "temp_low = []\n",
    "humidity = []\n",
    "cloudiness = []\n",
    "wind_spd = []\n",
    "country = []\n",
    "date = []\n",
    "\n",
    "# Set up counter\n",
    "record = 1 \n",
    "\n",
    "# Formatting \n",
    "print(f\"Beginning Data Retrieval\")\n",
    "print(f\"-------------------------------\")\n",
    "\n",
    "for city in cities:\n",
    "   \n",
    "    try:\n",
    "        #Setting up URLs\n",
    "        query_url = f'{url}appid={weather_api_key}&q={city}&units={units}'\n",
    "        response = requests.get(query_url)\n",
    "        response_json = response.json()\n",
    "    \n",
    "        # Pulling data from API and sorting them to the correct lists\n",
    "        lng.append(response_json['coord']['lon'])\n",
    "        lat.append(response_json['coord']['lat'])\n",
    "        city_name.append(response_json['name'])\n",
    "        date.append(response_json['dt'])\n",
    "        country.append(response_json['sys']['country'])\n",
    "        temp_high.append(response_json['main']['temp_max'])\n",
    "        temp_low.append(response_json['main']['temp_min'])\n",
    "        humidity.append(response_json['main']['humidity'])\n",
    "        cloudiness.append(response_json['clouds']['all'])\n",
    "        wind_spd.append(response_json['wind']['speed'])\n",
    "    \n",
    "        # Formatting variables for response\n",
    "        city_response = response_json['name']\n",
    "        print(f'Processing Record {record} | {city_response}')\n",
    "    \n",
    "        # Adding to the count\n",
    "        record = record + 1\n",
    "    \n",
    "    except:\n",
    "        # If there's an error, print this statement\n",
    "        print(f'City not found. Skipping...')\n",
    "\n",
    "    continue\n",
    "print(f\"-------------------------------\")\n",
    "print(f\"Data Retrieval Complete\")\n",
    "print(f\"-------------------------------\")"
   ]
  },
  {
   "cell_type": "markdown",
   "metadata": {},
   "source": [
    "### Convert Raw Data to DataFrame\n",
    "* Export the city data into a .csv.\n",
    "* Display the DataFrame"
   ]
  },
  {
   "cell_type": "code",
   "execution_count": 18,
   "metadata": {},
   "outputs": [],
   "source": [
    "# Creating a dictionary to store data\n",
    "weather_dict = {\n",
    "    \"City\": city_name,\n",
    "    \"Latitude\": lat,\n",
    "    \"Longitude\": lng,\n",
    "    \"Max Temp\": temp_high,\n",
    "    \"Humidity\": humidity,\n",
    "    \"Cloudiness\": cloudiness,\n",
    "    \"Wind Speed\": wind_spd,\n",
    "    \"Country\": country,\n",
    "    \"Date\": date}"
   ]
  },
  {
   "cell_type": "code",
   "execution_count": 26,
   "metadata": {},
   "outputs": [
    {
     "data": {
      "text/plain": [
       "City          563\n",
       "Latitude      563\n",
       "Longitude     563\n",
       "Max Temp      563\n",
       "Humidity      563\n",
       "Cloudiness    563\n",
       "Wind Speed    563\n",
       "Country       563\n",
       "Date          563\n",
       "dtype: int64"
      ]
     },
     "execution_count": 26,
     "metadata": {},
     "output_type": "execute_result"
    }
   ],
   "source": [
    "# Converting data to a data frame\n",
    "weather_data = pd.DataFrame(weather_dict)\n",
    "\n",
    "# Previewing the count on the cities\n",
    "weather_data.count()"
   ]
  },
  {
   "cell_type": "code",
   "execution_count": 28,
   "metadata": {},
   "outputs": [
    {
     "data": {
      "text/html": [
       "<div>\n",
       "<style scoped>\n",
       "    .dataframe tbody tr th:only-of-type {\n",
       "        vertical-align: middle;\n",
       "    }\n",
       "\n",
       "    .dataframe tbody tr th {\n",
       "        vertical-align: top;\n",
       "    }\n",
       "\n",
       "    .dataframe thead th {\n",
       "        text-align: right;\n",
       "    }\n",
       "</style>\n",
       "<table border=\"1\" class=\"dataframe\">\n",
       "  <thead>\n",
       "    <tr style=\"text-align: right;\">\n",
       "      <th></th>\n",
       "      <th>City</th>\n",
       "      <th>Latitude</th>\n",
       "      <th>Longitude</th>\n",
       "      <th>Max Temp</th>\n",
       "      <th>Humidity</th>\n",
       "      <th>Cloudiness</th>\n",
       "      <th>Wind Speed</th>\n",
       "      <th>Country</th>\n",
       "      <th>Date</th>\n",
       "    </tr>\n",
       "  </thead>\n",
       "  <tbody>\n",
       "    <tr>\n",
       "      <th>0</th>\n",
       "      <td>Busselton</td>\n",
       "      <td>-33.65</td>\n",
       "      <td>115.33</td>\n",
       "      <td>46.99</td>\n",
       "      <td>89</td>\n",
       "      <td>74</td>\n",
       "      <td>4.85</td>\n",
       "      <td>AU</td>\n",
       "      <td>1596057156</td>\n",
       "    </tr>\n",
       "    <tr>\n",
       "      <th>1</th>\n",
       "      <td>Mandlā</td>\n",
       "      <td>22.60</td>\n",
       "      <td>80.38</td>\n",
       "      <td>76.35</td>\n",
       "      <td>88</td>\n",
       "      <td>100</td>\n",
       "      <td>2.55</td>\n",
       "      <td>IN</td>\n",
       "      <td>1596057415</td>\n",
       "    </tr>\n",
       "    <tr>\n",
       "      <th>2</th>\n",
       "      <td>Upernavik</td>\n",
       "      <td>72.79</td>\n",
       "      <td>-56.15</td>\n",
       "      <td>43.18</td>\n",
       "      <td>88</td>\n",
       "      <td>59</td>\n",
       "      <td>4.68</td>\n",
       "      <td>GL</td>\n",
       "      <td>1596057342</td>\n",
       "    </tr>\n",
       "    <tr>\n",
       "      <th>3</th>\n",
       "      <td>Kapaa</td>\n",
       "      <td>22.08</td>\n",
       "      <td>-159.32</td>\n",
       "      <td>79.00</td>\n",
       "      <td>78</td>\n",
       "      <td>90</td>\n",
       "      <td>16.11</td>\n",
       "      <td>US</td>\n",
       "      <td>1596057415</td>\n",
       "    </tr>\n",
       "    <tr>\n",
       "      <th>4</th>\n",
       "      <td>Olafsvik</td>\n",
       "      <td>64.89</td>\n",
       "      <td>-23.71</td>\n",
       "      <td>51.84</td>\n",
       "      <td>79</td>\n",
       "      <td>79</td>\n",
       "      <td>2.91</td>\n",
       "      <td>IS</td>\n",
       "      <td>1596057568</td>\n",
       "    </tr>\n",
       "  </tbody>\n",
       "</table>\n",
       "</div>"
      ],
      "text/plain": [
       "        City  Latitude  Longitude  Max Temp  Humidity  Cloudiness  Wind Speed  \\\n",
       "0  Busselton    -33.65     115.33     46.99        89          74        4.85   \n",
       "1     Mandlā     22.60      80.38     76.35        88         100        2.55   \n",
       "2  Upernavik     72.79     -56.15     43.18        88          59        4.68   \n",
       "3      Kapaa     22.08    -159.32     79.00        78          90       16.11   \n",
       "4   Olafsvik     64.89     -23.71     51.84        79          79        2.91   \n",
       "\n",
       "  Country        Date  \n",
       "0      AU  1596057156  \n",
       "1      IN  1596057415  \n",
       "2      GL  1596057342  \n",
       "3      US  1596057415  \n",
       "4      IS  1596057568  "
      ]
     },
     "execution_count": 28,
     "metadata": {},
     "output_type": "execute_result"
    }
   ],
   "source": [
    "# Previewing the data frame\n",
    "weather_data.head(5)"
   ]
  },
  {
   "cell_type": "code",
   "execution_count": 31,
   "metadata": {},
   "outputs": [],
   "source": [
    "# Exporting data to csv\n",
    "\n",
    "weather_data.to_csv (f'weather_data.csv', index = False, header=True)"
   ]
  },
  {
   "cell_type": "markdown",
   "metadata": {},
   "source": [
    "## Inspect the data and remove the cities where the humidity > 100%.\n",
    "----\n",
    "Skip this step if there are no cities that have humidity > 100%. "
   ]
  },
  {
   "cell_type": "code",
   "execution_count": 30,
   "metadata": {},
   "outputs": [
    {
     "data": {
      "text/html": [
       "<div>\n",
       "<style scoped>\n",
       "    .dataframe tbody tr th:only-of-type {\n",
       "        vertical-align: middle;\n",
       "    }\n",
       "\n",
       "    .dataframe tbody tr th {\n",
       "        vertical-align: top;\n",
       "    }\n",
       "\n",
       "    .dataframe thead th {\n",
       "        text-align: right;\n",
       "    }\n",
       "</style>\n",
       "<table border=\"1\" class=\"dataframe\">\n",
       "  <thead>\n",
       "    <tr style=\"text-align: right;\">\n",
       "      <th></th>\n",
       "      <th>City</th>\n",
       "      <th>Latitude</th>\n",
       "      <th>Longitude</th>\n",
       "      <th>Max Temp</th>\n",
       "      <th>Humidity</th>\n",
       "      <th>Cloudiness</th>\n",
       "      <th>Wind Speed</th>\n",
       "      <th>Country</th>\n",
       "      <th>Date</th>\n",
       "    </tr>\n",
       "  </thead>\n",
       "  <tbody>\n",
       "    <tr>\n",
       "      <th>369</th>\n",
       "      <td>Honiara</td>\n",
       "      <td>-9.43</td>\n",
       "      <td>159.95</td>\n",
       "      <td>75.20</td>\n",
       "      <td>100</td>\n",
       "      <td>75</td>\n",
       "      <td>4.70</td>\n",
       "      <td>SB</td>\n",
       "      <td>1596057516</td>\n",
       "    </tr>\n",
       "    <tr>\n",
       "      <th>355</th>\n",
       "      <td>Dneprovskaya</td>\n",
       "      <td>45.62</td>\n",
       "      <td>38.81</td>\n",
       "      <td>70.00</td>\n",
       "      <td>100</td>\n",
       "      <td>0</td>\n",
       "      <td>3.15</td>\n",
       "      <td>RU</td>\n",
       "      <td>1596057512</td>\n",
       "    </tr>\n",
       "    <tr>\n",
       "      <th>234</th>\n",
       "      <td>Verkhnyaya Sysert’</td>\n",
       "      <td>56.44</td>\n",
       "      <td>60.75</td>\n",
       "      <td>57.20</td>\n",
       "      <td>100</td>\n",
       "      <td>98</td>\n",
       "      <td>6.71</td>\n",
       "      <td>RU</td>\n",
       "      <td>1596057481</td>\n",
       "    </tr>\n",
       "    <tr>\n",
       "      <th>253</th>\n",
       "      <td>Moree</td>\n",
       "      <td>-29.47</td>\n",
       "      <td>149.85</td>\n",
       "      <td>39.20</td>\n",
       "      <td>100</td>\n",
       "      <td>75</td>\n",
       "      <td>4.70</td>\n",
       "      <td>AU</td>\n",
       "      <td>1596057433</td>\n",
       "    </tr>\n",
       "    <tr>\n",
       "      <th>410</th>\n",
       "      <td>Kathu</td>\n",
       "      <td>7.92</td>\n",
       "      <td>98.33</td>\n",
       "      <td>82.99</td>\n",
       "      <td>100</td>\n",
       "      <td>75</td>\n",
       "      <td>2.24</td>\n",
       "      <td>TH</td>\n",
       "      <td>1596057527</td>\n",
       "    </tr>\n",
       "    <tr>\n",
       "      <th>...</th>\n",
       "      <td>...</td>\n",
       "      <td>...</td>\n",
       "      <td>...</td>\n",
       "      <td>...</td>\n",
       "      <td>...</td>\n",
       "      <td>...</td>\n",
       "      <td>...</td>\n",
       "      <td>...</td>\n",
       "      <td>...</td>\n",
       "    </tr>\n",
       "    <tr>\n",
       "      <th>472</th>\n",
       "      <td>Bilma</td>\n",
       "      <td>18.69</td>\n",
       "      <td>12.92</td>\n",
       "      <td>95.90</td>\n",
       "      <td>15</td>\n",
       "      <td>82</td>\n",
       "      <td>1.03</td>\n",
       "      <td>NE</td>\n",
       "      <td>1596057543</td>\n",
       "    </tr>\n",
       "    <tr>\n",
       "      <th>522</th>\n",
       "      <td>Cheney</td>\n",
       "      <td>47.49</td>\n",
       "      <td>-117.58</td>\n",
       "      <td>96.01</td>\n",
       "      <td>14</td>\n",
       "      <td>1</td>\n",
       "      <td>10.29</td>\n",
       "      <td>US</td>\n",
       "      <td>1596057440</td>\n",
       "    </tr>\n",
       "    <tr>\n",
       "      <th>475</th>\n",
       "      <td>Bay Roberts</td>\n",
       "      <td>47.60</td>\n",
       "      <td>-53.26</td>\n",
       "      <td>59.00</td>\n",
       "      <td>13</td>\n",
       "      <td>71</td>\n",
       "      <td>6.13</td>\n",
       "      <td>CA</td>\n",
       "      <td>1596057410</td>\n",
       "    </tr>\n",
       "    <tr>\n",
       "      <th>269</th>\n",
       "      <td>Saint George</td>\n",
       "      <td>37.10</td>\n",
       "      <td>-113.58</td>\n",
       "      <td>105.01</td>\n",
       "      <td>7</td>\n",
       "      <td>1</td>\n",
       "      <td>9.17</td>\n",
       "      <td>US</td>\n",
       "      <td>1596057341</td>\n",
       "    </tr>\n",
       "    <tr>\n",
       "      <th>321</th>\n",
       "      <td>Cedar City</td>\n",
       "      <td>37.68</td>\n",
       "      <td>-113.06</td>\n",
       "      <td>93.20</td>\n",
       "      <td>5</td>\n",
       "      <td>1</td>\n",
       "      <td>6.93</td>\n",
       "      <td>US</td>\n",
       "      <td>1596057503</td>\n",
       "    </tr>\n",
       "  </tbody>\n",
       "</table>\n",
       "<p>563 rows × 9 columns</p>\n",
       "</div>"
      ],
      "text/plain": [
       "                   City  Latitude  Longitude  Max Temp  Humidity  Cloudiness  \\\n",
       "369             Honiara     -9.43     159.95     75.20       100          75   \n",
       "355        Dneprovskaya     45.62      38.81     70.00       100           0   \n",
       "234  Verkhnyaya Sysert’     56.44      60.75     57.20       100          98   \n",
       "253               Moree    -29.47     149.85     39.20       100          75   \n",
       "410               Kathu      7.92      98.33     82.99       100          75   \n",
       "..                  ...       ...        ...       ...       ...         ...   \n",
       "472               Bilma     18.69      12.92     95.90        15          82   \n",
       "522              Cheney     47.49    -117.58     96.01        14           1   \n",
       "475         Bay Roberts     47.60     -53.26     59.00        13          71   \n",
       "269        Saint George     37.10    -113.58    105.01         7           1   \n",
       "321          Cedar City     37.68    -113.06     93.20         5           1   \n",
       "\n",
       "     Wind Speed Country        Date  \n",
       "369        4.70      SB  1596057516  \n",
       "355        3.15      RU  1596057512  \n",
       "234        6.71      RU  1596057481  \n",
       "253        4.70      AU  1596057433  \n",
       "410        2.24      TH  1596057527  \n",
       "..          ...     ...         ...  \n",
       "472        1.03      NE  1596057543  \n",
       "522       10.29      US  1596057440  \n",
       "475        6.13      CA  1596057410  \n",
       "269        9.17      US  1596057341  \n",
       "321        6.93      US  1596057503  \n",
       "\n",
       "[563 rows x 9 columns]"
      ]
     },
     "execution_count": 30,
     "metadata": {},
     "output_type": "execute_result"
    }
   ],
   "source": [
    "# Sorting the Humidity column to find if any are > 100% humidity--there are none. \n",
    "# * Never going to Honiara *\n",
    "\n",
    "weather_data.sort_values(by='Humidity', ascending=False)"
   ]
  },
  {
   "cell_type": "code",
   "execution_count": 7,
   "metadata": {
    "scrolled": true
   },
   "outputs": [
    {
     "data": {
      "text/plain": [
       "Int64Index([], dtype='int64')"
      ]
     },
     "execution_count": 7,
     "metadata": {},
     "output_type": "execute_result"
    }
   ],
   "source": [
    "#  Get the indices of cities that have humidity over 100%.\n",
    "\n",
    "# No cities have a humidity over 100%"
   ]
  },
  {
   "cell_type": "code",
   "execution_count": 8,
   "metadata": {
    "scrolled": true
   },
   "outputs": [
    {
     "data": {
      "text/html": [
       "<div>\n",
       "<style scoped>\n",
       "    .dataframe tbody tr th:only-of-type {\n",
       "        vertical-align: middle;\n",
       "    }\n",
       "\n",
       "    .dataframe tbody tr th {\n",
       "        vertical-align: top;\n",
       "    }\n",
       "\n",
       "    .dataframe thead th {\n",
       "        text-align: right;\n",
       "    }\n",
       "</style>\n",
       "<table border=\"1\" class=\"dataframe\">\n",
       "  <thead>\n",
       "    <tr style=\"text-align: right;\">\n",
       "      <th></th>\n",
       "      <th>City</th>\n",
       "      <th>Lat</th>\n",
       "      <th>Lng</th>\n",
       "      <th>Max Temp</th>\n",
       "      <th>Humidity</th>\n",
       "      <th>Cloudiness</th>\n",
       "      <th>Wind Speed</th>\n",
       "      <th>Country</th>\n",
       "      <th>Date</th>\n",
       "    </tr>\n",
       "  </thead>\n",
       "  <tbody>\n",
       "    <tr>\n",
       "      <th>0</th>\n",
       "      <td>pimentel</td>\n",
       "      <td>-6.84</td>\n",
       "      <td>-79.93</td>\n",
       "      <td>66.20</td>\n",
       "      <td>29</td>\n",
       "      <td>75</td>\n",
       "      <td>5.82</td>\n",
       "      <td>PE</td>\n",
       "      <td>1585764415</td>\n",
       "    </tr>\n",
       "    <tr>\n",
       "      <th>1</th>\n",
       "      <td>victoria</td>\n",
       "      <td>22.29</td>\n",
       "      <td>114.16</td>\n",
       "      <td>69.01</td>\n",
       "      <td>88</td>\n",
       "      <td>40</td>\n",
       "      <td>18.34</td>\n",
       "      <td>HK</td>\n",
       "      <td>1585764288</td>\n",
       "    </tr>\n",
       "    <tr>\n",
       "      <th>2</th>\n",
       "      <td>padang</td>\n",
       "      <td>-0.95</td>\n",
       "      <td>100.35</td>\n",
       "      <td>79.90</td>\n",
       "      <td>75</td>\n",
       "      <td>99</td>\n",
       "      <td>1.63</td>\n",
       "      <td>ID</td>\n",
       "      <td>1585764115</td>\n",
       "    </tr>\n",
       "    <tr>\n",
       "      <th>3</th>\n",
       "      <td>hasaki</td>\n",
       "      <td>35.73</td>\n",
       "      <td>140.83</td>\n",
       "      <td>55.00</td>\n",
       "      <td>100</td>\n",
       "      <td>75</td>\n",
       "      <td>4.70</td>\n",
       "      <td>JP</td>\n",
       "      <td>1585764415</td>\n",
       "    </tr>\n",
       "    <tr>\n",
       "      <th>4</th>\n",
       "      <td>kahului</td>\n",
       "      <td>20.89</td>\n",
       "      <td>-156.47</td>\n",
       "      <td>70.00</td>\n",
       "      <td>88</td>\n",
       "      <td>1</td>\n",
       "      <td>7.63</td>\n",
       "      <td>US</td>\n",
       "      <td>1585764415</td>\n",
       "    </tr>\n",
       "  </tbody>\n",
       "</table>\n",
       "</div>"
      ],
      "text/plain": [
       "       City    Lat     Lng  Max Temp  Humidity  Cloudiness  Wind Speed  \\\n",
       "0  pimentel  -6.84  -79.93     66.20        29          75        5.82   \n",
       "1  victoria  22.29  114.16     69.01        88          40       18.34   \n",
       "2    padang  -0.95  100.35     79.90        75          99        1.63   \n",
       "3    hasaki  35.73  140.83     55.00       100          75        4.70   \n",
       "4   kahului  20.89 -156.47     70.00        88           1        7.63   \n",
       "\n",
       "  Country        Date  \n",
       "0      PE  1585764415  \n",
       "1      HK  1585764288  \n",
       "2      ID  1585764115  \n",
       "3      JP  1585764415  \n",
       "4      US  1585764415  "
      ]
     },
     "execution_count": 8,
     "metadata": {},
     "output_type": "execute_result"
    }
   ],
   "source": [
    "# Make a new DataFrame equal to the city data to drop all humidity outliers by index.\n",
    "# Passing \"inplace=False\" will make a copy of the city_data DataFrame, which we call \"clean_city_data\".\n",
    "\n",
    "# N/A"
   ]
  },
  {
   "cell_type": "markdown",
   "metadata": {},
   "source": [
    "## Plotting the Data\n",
    "* Use proper labeling of the plots using plot titles (including date of analysis) and axes labels.\n",
    "* Save the plotted figures as .pngs."
   ]
  },
  {
   "cell_type": "markdown",
   "metadata": {},
   "source": [
    "## Latitude vs. Temperature Plot"
   ]
  },
  {
   "cell_type": "code",
   "execution_count": 71,
   "metadata": {
    "scrolled": false
   },
   "outputs": [
    {
     "data": {
      "image/png": "[encoded data removed]",
      "text/plain": [
       "<Figure size 432x288 with 1 Axes>"
      ]
     },
     "metadata": {
      "needs_background": "light"
     },
     "output_type": "display_data"
    },
    {
     "data": {
      "text/plain": [
       "<Figure size 432x288 with 0 Axes>"
      ]
     },
     "metadata": {},
     "output_type": "display_data"
    }
   ],
   "source": [
    "x_values = weather_data['Latitude']\n",
    "y_values = weather_data['Max Temp']\n",
    "plt.scatter(x_values,y_values, color=\"lightcoral\", alpha=0.5)\n",
    "plt.title('Latitude vs. Temperature Plot')\n",
    "plt.xlabel('Latitude')\n",
    "plt.ylabel('Max Temperature (F)')\n",
    "plt.show()\n",
    "\n",
    "# Save a copy of the plot\n",
    "plt.savefig(\"lat_vs_temp_plot.png\")"
   ]
  },
  {
   "cell_type": "markdown",
   "metadata": {},
   "source": [
    "## Latitude vs. Humidity Plot"
   ]
  },
  {
   "cell_type": "code",
   "execution_count": 72,
   "metadata": {},
   "outputs": [
    {
     "data": {
      "image/png": "[encoded data removed]",
      "text/plain": [
       "<Figure size 432x288 with 1 Axes>"
      ]
     },
     "metadata": {
      "needs_background": "light"
     },
     "output_type": "display_data"
    },
    {
     "data": {
      "text/plain": [
       "<Figure size 432x288 with 0 Axes>"
      ]
     },
     "metadata": {},
     "output_type": "display_data"
    }
   ],
   "source": [
    "x_values = weather_data['Latitude']\n",
    "y_values = weather_data['Humidity']\n",
    "plt.scatter(x_values,y_values, color=\"lightcoral\", alpha=0.5)\n",
    "plt.scatter(x_values,y_values, color=\"lightcoral\", alpha=0.5)\n",
    "plt.title('Latitude vs. Humidity Plot')\n",
    "plt.xlabel('Latitude')\n",
    "plt.ylabel('Humidity')\n",
    "plt.show()\n",
    "\n",
    "# Save a copy of the plot\n",
    "plt.savefig(\"lat_vs_hum_plot.png\")"
   ]
  },
  {
   "cell_type": "markdown",
   "metadata": {},
   "source": [
    "## Latitude vs. Cloudiness Plot"
   ]
  },
  {
   "cell_type": "code",
   "execution_count": 73,
   "metadata": {},
   "outputs": [
    {
     "data": {
      "image/png": "[encoded data removed]",
      "text/plain": [
       "<Figure size 432x288 with 1 Axes>"
      ]
     },
     "metadata": {
      "needs_background": "light"
     },
     "output_type": "display_data"
    },
    {
     "data": {
      "text/plain": [
       "<Figure size 432x288 with 0 Axes>"
      ]
     },
     "metadata": {},
     "output_type": "display_data"
    }
   ],
   "source": [
    "x_values = weather_data['Latitude']\n",
    "y_values = weather_data['Cloudiness']\n",
    "plt.scatter(x_values,y_values, color=\"lightcoral\", alpha=0.5)\n",
    "plt.title('Latitude vs. Cloudiness Plot')\n",
    "plt.xlabel('Latitude')\n",
    "plt.ylabel('Cloudiness (%)')\n",
    "plt.show()\n",
    "\n",
    "# Save a copy of the plot\n",
    "plt.savefig(\"lat_vs_cloud_plot.png\")"
   ]
  },
  {
   "cell_type": "markdown",
   "metadata": {},
   "source": [
    "## Latitude vs. Wind Speed Plot"
   ]
  },
  {
   "cell_type": "code",
   "execution_count": 74,
   "metadata": {},
   "outputs": [
    {
     "data": {
      "image/png": "[encoded data removed]",
      "text/plain": [
       "<Figure size 432x288 with 1 Axes>"
      ]
     },
     "metadata": {
      "needs_background": "light"
     },
     "output_type": "display_data"
    },
    {
     "data": {
      "text/plain": [
       "<Figure size 432x288 with 0 Axes>"
      ]
     },
     "metadata": {},
     "output_type": "display_data"
    }
   ],
   "source": [
    "x_values = weather_data['Latitude']\n",
    "y_values = weather_data['Wind Speed']\n",
    "plt.scatter(x_values,y_values, color=\"lightcoral\", alpha=0.5)\n",
    "plt.title('Latitude vs. Wind Speed Plot')\n",
    "plt.xlabel('Latitude')\n",
    "plt.ylabel('Wind Speed (MPH)')\n",
    "plt.show()\n",
    "\n",
    "# Save a copy of the plot\n",
    "plt.savefig(\"lat_vs_wind_plot.png\")"
   ]
  },
  {
   "cell_type": "markdown",
   "metadata": {},
   "source": [
    "## Linear Regression"
   ]
  },
  {
   "cell_type": "code",
   "execution_count": 14,
   "metadata": {},
   "outputs": [],
   "source": [
    "# OPTIONAL: Create a function to create Linear Regression plots"
   ]
  },
  {
   "cell_type": "code",
   "execution_count": 49,
   "metadata": {},
   "outputs": [
    {
     "data": {
      "text/html": [
       "<div>\n",
       "<style scoped>\n",
       "    .dataframe tbody tr th:only-of-type {\n",
       "        vertical-align: middle;\n",
       "    }\n",
       "\n",
       "    .dataframe tbody tr th {\n",
       "        vertical-align: top;\n",
       "    }\n",
       "\n",
       "    .dataframe thead th {\n",
       "        text-align: right;\n",
       "    }\n",
       "</style>\n",
       "<table border=\"1\" class=\"dataframe\">\n",
       "  <thead>\n",
       "    <tr style=\"text-align: right;\">\n",
       "      <th></th>\n",
       "      <th>City</th>\n",
       "      <th>Latitude</th>\n",
       "      <th>Longitude</th>\n",
       "      <th>Max Temp</th>\n",
       "      <th>Humidity</th>\n",
       "      <th>Cloudiness</th>\n",
       "      <th>Wind Speed</th>\n",
       "      <th>Country</th>\n",
       "      <th>Date</th>\n",
       "    </tr>\n",
       "  </thead>\n",
       "  <tbody>\n",
       "    <tr>\n",
       "      <th>0</th>\n",
       "      <td>Busselton</td>\n",
       "      <td>-33.65</td>\n",
       "      <td>115.33</td>\n",
       "      <td>46.99</td>\n",
       "      <td>89</td>\n",
       "      <td>74</td>\n",
       "      <td>4.85</td>\n",
       "      <td>AU</td>\n",
       "      <td>1596057156</td>\n",
       "    </tr>\n",
       "    <tr>\n",
       "      <th>5</th>\n",
       "      <td>Hermanus</td>\n",
       "      <td>-34.42</td>\n",
       "      <td>19.23</td>\n",
       "      <td>59.00</td>\n",
       "      <td>79</td>\n",
       "      <td>14</td>\n",
       "      <td>1.01</td>\n",
       "      <td>ZA</td>\n",
       "      <td>1596057547</td>\n",
       "    </tr>\n",
       "    <tr>\n",
       "      <th>6</th>\n",
       "      <td>Atuona</td>\n",
       "      <td>-9.80</td>\n",
       "      <td>-139.03</td>\n",
       "      <td>79.00</td>\n",
       "      <td>76</td>\n",
       "      <td>4</td>\n",
       "      <td>20.47</td>\n",
       "      <td>PF</td>\n",
       "      <td>1596057541</td>\n",
       "    </tr>\n",
       "    <tr>\n",
       "      <th>11</th>\n",
       "      <td>Lorengau</td>\n",
       "      <td>-2.02</td>\n",
       "      <td>147.27</td>\n",
       "      <td>81.19</td>\n",
       "      <td>68</td>\n",
       "      <td>31</td>\n",
       "      <td>4.70</td>\n",
       "      <td>PG</td>\n",
       "      <td>1596057569</td>\n",
       "    </tr>\n",
       "    <tr>\n",
       "      <th>13</th>\n",
       "      <td>Touros</td>\n",
       "      <td>-5.20</td>\n",
       "      <td>-35.46</td>\n",
       "      <td>75.20</td>\n",
       "      <td>88</td>\n",
       "      <td>40</td>\n",
       "      <td>9.17</td>\n",
       "      <td>BR</td>\n",
       "      <td>1596057418</td>\n",
       "    </tr>\n",
       "    <tr>\n",
       "      <th>15</th>\n",
       "      <td>Vaini</td>\n",
       "      <td>-21.20</td>\n",
       "      <td>-175.20</td>\n",
       "      <td>69.80</td>\n",
       "      <td>77</td>\n",
       "      <td>40</td>\n",
       "      <td>16.11</td>\n",
       "      <td>TO</td>\n",
       "      <td>1596057327</td>\n",
       "    </tr>\n",
       "    <tr>\n",
       "      <th>20</th>\n",
       "      <td>Ushuaia</td>\n",
       "      <td>-54.80</td>\n",
       "      <td>-68.30</td>\n",
       "      <td>39.20</td>\n",
       "      <td>92</td>\n",
       "      <td>75</td>\n",
       "      <td>28.86</td>\n",
       "      <td>AR</td>\n",
       "      <td>1596057251</td>\n",
       "    </tr>\n",
       "    <tr>\n",
       "      <th>22</th>\n",
       "      <td>Puerto Ayora</td>\n",
       "      <td>-0.74</td>\n",
       "      <td>-90.35</td>\n",
       "      <td>75.20</td>\n",
       "      <td>64</td>\n",
       "      <td>20</td>\n",
       "      <td>21.92</td>\n",
       "      <td>EC</td>\n",
       "      <td>1596057420</td>\n",
       "    </tr>\n",
       "    <tr>\n",
       "      <th>24</th>\n",
       "      <td>Bredasdorp</td>\n",
       "      <td>-34.53</td>\n",
       "      <td>20.04</td>\n",
       "      <td>59.00</td>\n",
       "      <td>77</td>\n",
       "      <td>1</td>\n",
       "      <td>9.17</td>\n",
       "      <td>ZA</td>\n",
       "      <td>1596057421</td>\n",
       "    </tr>\n",
       "    <tr>\n",
       "      <th>30</th>\n",
       "      <td>Bluff</td>\n",
       "      <td>-46.60</td>\n",
       "      <td>168.33</td>\n",
       "      <td>51.71</td>\n",
       "      <td>79</td>\n",
       "      <td>100</td>\n",
       "      <td>13.67</td>\n",
       "      <td>NZ</td>\n",
       "      <td>1596057422</td>\n",
       "    </tr>\n",
       "    <tr>\n",
       "      <th>31</th>\n",
       "      <td>Isangel</td>\n",
       "      <td>-19.55</td>\n",
       "      <td>169.27</td>\n",
       "      <td>76.19</td>\n",
       "      <td>73</td>\n",
       "      <td>72</td>\n",
       "      <td>14.20</td>\n",
       "      <td>VU</td>\n",
       "      <td>1596057423</td>\n",
       "    </tr>\n",
       "    <tr>\n",
       "      <th>32</th>\n",
       "      <td>Saint-Joseph</td>\n",
       "      <td>-21.37</td>\n",
       "      <td>55.62</td>\n",
       "      <td>69.80</td>\n",
       "      <td>88</td>\n",
       "      <td>40</td>\n",
       "      <td>2.24</td>\n",
       "      <td>RE</td>\n",
       "      <td>1596057423</td>\n",
       "    </tr>\n",
       "    <tr>\n",
       "      <th>33</th>\n",
       "      <td>Mayumba</td>\n",
       "      <td>-3.43</td>\n",
       "      <td>10.66</td>\n",
       "      <td>72.45</td>\n",
       "      <td>82</td>\n",
       "      <td>52</td>\n",
       "      <td>9.26</td>\n",
       "      <td>GA</td>\n",
       "      <td>1596057423</td>\n",
       "    </tr>\n",
       "    <tr>\n",
       "      <th>36</th>\n",
       "      <td>Mataura</td>\n",
       "      <td>-46.19</td>\n",
       "      <td>168.86</td>\n",
       "      <td>48.85</td>\n",
       "      <td>83</td>\n",
       "      <td>100</td>\n",
       "      <td>3.98</td>\n",
       "      <td>NZ</td>\n",
       "      <td>1596057424</td>\n",
       "    </tr>\n",
       "    <tr>\n",
       "      <th>40</th>\n",
       "      <td>Kaitangata</td>\n",
       "      <td>-46.28</td>\n",
       "      <td>169.85</td>\n",
       "      <td>48.00</td>\n",
       "      <td>76</td>\n",
       "      <td>100</td>\n",
       "      <td>1.99</td>\n",
       "      <td>NZ</td>\n",
       "      <td>1596057425</td>\n",
       "    </tr>\n",
       "    <tr>\n",
       "      <th>41</th>\n",
       "      <td>Tuatapere</td>\n",
       "      <td>-46.13</td>\n",
       "      <td>167.68</td>\n",
       "      <td>52.75</td>\n",
       "      <td>77</td>\n",
       "      <td>100</td>\n",
       "      <td>8.90</td>\n",
       "      <td>NZ</td>\n",
       "      <td>1596057426</td>\n",
       "    </tr>\n",
       "    <tr>\n",
       "      <th>45</th>\n",
       "      <td>East London</td>\n",
       "      <td>-33.02</td>\n",
       "      <td>27.91</td>\n",
       "      <td>59.41</td>\n",
       "      <td>69</td>\n",
       "      <td>0</td>\n",
       "      <td>8.03</td>\n",
       "      <td>ZA</td>\n",
       "      <td>1596057427</td>\n",
       "    </tr>\n",
       "    <tr>\n",
       "      <th>51</th>\n",
       "      <td>Rikitea</td>\n",
       "      <td>-23.12</td>\n",
       "      <td>-134.97</td>\n",
       "      <td>73.00</td>\n",
       "      <td>81</td>\n",
       "      <td>48</td>\n",
       "      <td>14.25</td>\n",
       "      <td>PF</td>\n",
       "      <td>1596057429</td>\n",
       "    </tr>\n",
       "    <tr>\n",
       "      <th>55</th>\n",
       "      <td>Hobart</td>\n",
       "      <td>-42.88</td>\n",
       "      <td>147.33</td>\n",
       "      <td>46.00</td>\n",
       "      <td>80</td>\n",
       "      <td>40</td>\n",
       "      <td>4.70</td>\n",
       "      <td>AU</td>\n",
       "      <td>1596057188</td>\n",
       "    </tr>\n",
       "    <tr>\n",
       "      <th>57</th>\n",
       "      <td>Sungai Penuh</td>\n",
       "      <td>-2.08</td>\n",
       "      <td>101.38</td>\n",
       "      <td>62.94</td>\n",
       "      <td>93</td>\n",
       "      <td>87</td>\n",
       "      <td>2.30</td>\n",
       "      <td>ID</td>\n",
       "      <td>1596057432</td>\n",
       "    </tr>\n",
       "  </tbody>\n",
       "</table>\n",
       "</div>"
      ],
      "text/plain": [
       "            City  Latitude  Longitude  Max Temp  Humidity  Cloudiness  \\\n",
       "0      Busselton    -33.65     115.33     46.99        89          74   \n",
       "5       Hermanus    -34.42      19.23     59.00        79          14   \n",
       "6         Atuona     -9.80    -139.03     79.00        76           4   \n",
       "11      Lorengau     -2.02     147.27     81.19        68          31   \n",
       "13        Touros     -5.20     -35.46     75.20        88          40   \n",
       "15         Vaini    -21.20    -175.20     69.80        77          40   \n",
       "20       Ushuaia    -54.80     -68.30     39.20        92          75   \n",
       "22  Puerto Ayora     -0.74     -90.35     75.20        64          20   \n",
       "24    Bredasdorp    -34.53      20.04     59.00        77           1   \n",
       "30         Bluff    -46.60     168.33     51.71        79         100   \n",
       "31       Isangel    -19.55     169.27     76.19        73          72   \n",
       "32  Saint-Joseph    -21.37      55.62     69.80        88          40   \n",
       "33       Mayumba     -3.43      10.66     72.45        82          52   \n",
       "36       Mataura    -46.19     168.86     48.85        83         100   \n",
       "40    Kaitangata    -46.28     169.85     48.00        76         100   \n",
       "41     Tuatapere    -46.13     167.68     52.75        77         100   \n",
       "45   East London    -33.02      27.91     59.41        69           0   \n",
       "51       Rikitea    -23.12    -134.97     73.00        81          48   \n",
       "55        Hobart    -42.88     147.33     46.00        80          40   \n",
       "57  Sungai Penuh     -2.08     101.38     62.94        93          87   \n",
       "\n",
       "    Wind Speed Country        Date  \n",
       "0         4.85      AU  1596057156  \n",
       "5         1.01      ZA  1596057547  \n",
       "6        20.47      PF  1596057541  \n",
       "11        4.70      PG  1596057569  \n",
       "13        9.17      BR  1596057418  \n",
       "15       16.11      TO  1596057327  \n",
       "20       28.86      AR  1596057251  \n",
       "22       21.92      EC  1596057420  \n",
       "24        9.17      ZA  1596057421  \n",
       "30       13.67      NZ  1596057422  \n",
       "31       14.20      VU  1596057423  \n",
       "32        2.24      RE  1596057423  \n",
       "33        9.26      GA  1596057423  \n",
       "36        3.98      NZ  1596057424  \n",
       "40        1.99      NZ  1596057425  \n",
       "41        8.90      NZ  1596057426  \n",
       "45        8.03      ZA  1596057427  \n",
       "51       14.25      PF  1596057429  \n",
       "55        4.70      AU  1596057188  \n",
       "57        2.30      ID  1596057432  "
      ]
     },
     "execution_count": 49,
     "metadata": {},
     "output_type": "execute_result"
    }
   ],
   "source": [
    "# Create Northern and Southern Hemisphere DataFrames based on their latitude\n",
    "\n",
    "north_hem_df = weather_data[weather_data['Latitude'] > 0]\n",
    "\n",
    "south_hem_df = weather_data[weather_data['Latitude'] < 0]"
   ]
  },
  {
   "cell_type": "markdown",
   "metadata": {},
   "source": [
    "####  Northern Hemisphere - Max Temp vs. Latitude Linear Regression"
   ]
  },
  {
   "cell_type": "code",
   "execution_count": 75,
   "metadata": {},
   "outputs": [
    {
     "name": "stdout",
     "output_type": "stream",
     "text": [
      "The r-squared is: 0.49999746529061645\n"
     ]
    },
    {
     "data": {
      "image/png": "[encoded data removed]",
      "text/plain": [
       "<Figure size 432x288 with 1 Axes>"
      ]
     },
     "metadata": {
      "needs_background": "light"
     },
     "output_type": "display_data"
    },
    {
     "data": {
      "text/plain": [
       "<Figure size 432x288 with 0 Axes>"
      ]
     },
     "metadata": {},
     "output_type": "display_data"
    }
   ],
   "source": [
    "# Define the x and y values in the northern hemisphere\n",
    "x_values = north_hem_df['Latitude']\n",
    "y_values = north_hem_df['Max Temp']\n",
    "\n",
    "# Calculating the pivitol stats\n",
    "slope, intercept, rvalue, pvalue, stderr = stats.linregress(x_values, y_values)\n",
    "fit = slope * x_values + intercept\n",
    "\n",
    "# Build the plot\n",
    "plt.scatter(x_values, y_values, color=\"lightcoral\", alpha=0.5)\n",
    "plt.plot(x_values,fit,\"--\")\n",
    "plt.title('Northern Hemisphere - Max Temp vs. Latitude Linear Regression')\n",
    "plt.xlabel('Latitude')\n",
    "plt.ylabel('Temperature')\n",
    "print(f\"The r-squared is: {rvalue**2}\")\n",
    "# Show plot\n",
    "plt.show()\n",
    "\n",
    "# Save a copy of the plot\n",
    "plt.savefig(\"nhem_lat_vs_temp_plot.png\")"
   ]
  },
  {
   "cell_type": "markdown",
   "metadata": {},
   "source": [
    "####  Southern Hemisphere - Max Temp vs. Latitude Linear Regression"
   ]
  },
  {
   "cell_type": "code",
   "execution_count": 76,
   "metadata": {},
   "outputs": [
    {
     "name": "stdout",
     "output_type": "stream",
     "text": [
      "The r-squared is: 0.5892269315348965\n"
     ]
    },
    {
     "data": {
      "image/png": "[encoded data removed]",
      "text/plain": [
       "<Figure size 432x288 with 1 Axes>"
      ]
     },
     "metadata": {
      "needs_background": "light"
     },
     "output_type": "display_data"
    },
    {
     "data": {
      "text/plain": [
       "<Figure size 432x288 with 0 Axes>"
      ]
     },
     "metadata": {},
     "output_type": "display_data"
    }
   ],
   "source": [
    "# Define the x and y values in the southern hemisphere\n",
    "x_values = south_hem_df['Latitude']\n",
    "y_values = south_hem_df['Max Temp']\n",
    "\n",
    "# Calculating the pivitol stats\n",
    "slope, intercept, rvalue, pvalue, stderr = stats.linregress(x_values, y_values)\n",
    "fit = slope * x_values + intercept\n",
    "\n",
    "# Build the plot\n",
    "plt.scatter(x_values, y_values, color=\"lightcoral\", alpha=0.5)\n",
    "plt.plot(x_values,fit,\"--\")\n",
    "plt.title('Southern Hemisphere - Max Temp vs. Latitude Linear Regression')\n",
    "plt.xlabel('Latitude')\n",
    "plt.ylabel('Temperature')\n",
    "print(f\"The r-squared is: {rvalue**2}\")\n",
    "\n",
    "# Show plot\n",
    "plt.show()\n",
    "\n",
    "# Save a copy of the plot\n",
    "plt.savefig(\"shem_lat_vs_temp_plot.png\")"
   ]
  },
  {
   "cell_type": "markdown",
   "metadata": {},
   "source": [
    "####  Northern Hemisphere - Humidity (%) vs. Latitude Linear Regression"
   ]
  },
  {
   "cell_type": "code",
   "execution_count": 77,
   "metadata": {},
   "outputs": [
    {
     "name": "stdout",
     "output_type": "stream",
     "text": [
      "The r-squared is: 0.0056081504757590035\n"
     ]
    },
    {
     "data": {
      "image/png": "[encoded data removed]",
      "text/plain": [
       "<Figure size 432x288 with 1 Axes>"
      ]
     },
     "metadata": {
      "needs_background": "light"
     },
     "output_type": "display_data"
    },
    {
     "data": {
      "text/plain": [
       "<Figure size 432x288 with 0 Axes>"
      ]
     },
     "metadata": {},
     "output_type": "display_data"
    }
   ],
   "source": [
    "# Define the x and y values in the northern hemisphere\n",
    "x_values = north_hem_df['Latitude']\n",
    "y_values = north_hem_df['Humidity']\n",
    "\n",
    "# Calculating the pivitol stats\n",
    "slope, intercept, rvalue, pvalue, stderr = stats.linregress(x_values, y_values)\n",
    "fit = slope * x_values + intercept\n",
    "\n",
    "# Build the plot\n",
    "plt.scatter(x_values, y_values, color=\"lightcoral\", alpha=0.5)\n",
    "plt.plot(x_values,fit,\"--\")\n",
    "plt.title('Northern Hemisphere - Humidity (%) vs. Latitude Linear Regression')\n",
    "plt.xlabel('Latitude')\n",
    "plt.ylabel('Humidity (%)')\n",
    "print(f\"The r-squared is: {rvalue**2}\")\n",
    "\n",
    "# Show plot\n",
    "plt.show()\n",
    "\n",
    "# Save a copy of the plot\n",
    "plt.savefig(\"nhem_lat_vs_hum_plot.png\")"
   ]
  },
  {
   "cell_type": "markdown",
   "metadata": {},
   "source": [
    "####  Southern Hemisphere - Humidity (%) vs. Latitude Linear Regression"
   ]
  },
  {
   "cell_type": "code",
   "execution_count": 78,
   "metadata": {},
   "outputs": [
    {
     "name": "stdout",
     "output_type": "stream",
     "text": [
      "The r-squared is: 0.003233719802699877\n"
     ]
    },
    {
     "data": {
      "image/png": "[encoded data removed]",
      "text/plain": [
       "<Figure size 432x288 with 1 Axes>"
      ]
     },
     "metadata": {
      "needs_background": "light"
     },
     "output_type": "display_data"
    },
    {
     "data": {
      "text/plain": [
       "<Figure size 432x288 with 0 Axes>"
      ]
     },
     "metadata": {},
     "output_type": "display_data"
    }
   ],
   "source": [
    "# Define the x and y values in the southern hemisphere\n",
    "x_values = south_hem_df['Latitude']\n",
    "y_values = south_hem_df['Humidity']\n",
    "\n",
    "# Calculating the pivitol stats\n",
    "slope, intercept, rvalue, pvalue, stderr = stats.linregress(x_values, y_values)\n",
    "fit = slope * x_values + intercept\n",
    "\n",
    "# Build the plot\n",
    "plt.scatter(x_values, y_values, color=\"lightcoral\", alpha=0.5)\n",
    "plt.plot(x_values,fit,\"--\")\n",
    "plt.title('Southern Hemisphere - Humidity (%) vs. Latitude Linear Regression')\n",
    "plt.xlabel('Latitude')\n",
    "plt.ylabel('Humidity (%)')\n",
    "print(f\"The r-squared is: {rvalue**2}\")\n",
    "\n",
    "# Show plot\n",
    "plt.show()\n",
    "\n",
    "# Save a copy of the plot\n",
    "plt.savefig(\"shem_lat_vs_hum_plot.png\")"
   ]
  },
  {
   "cell_type": "markdown",
   "metadata": {},
   "source": [
    "####  Northern Hemisphere - Cloudiness (%) vs. Latitude Linear Regression"
   ]
  },
  {
   "cell_type": "code",
   "execution_count": 79,
   "metadata": {},
   "outputs": [
    {
     "name": "stdout",
     "output_type": "stream",
     "text": [
      "The r-squared is: 0.010743770503617222\n"
     ]
    },
    {
     "data": {
      "image/png": "[encoded data removed]",
      "text/plain": [
       "<Figure size 432x288 with 1 Axes>"
      ]
     },
     "metadata": {
      "needs_background": "light"
     },
     "output_type": "display_data"
    },
    {
     "data": {
      "text/plain": [
       "<Figure size 432x288 with 0 Axes>"
      ]
     },
     "metadata": {},
     "output_type": "display_data"
    }
   ],
   "source": [
    "# Define the x and y values in the northern hemisphere\n",
    "x_values = north_hem_df['Latitude']\n",
    "y_values = north_hem_df['Cloudiness']\n",
    "\n",
    "# Calculating the pivitol stats\n",
    "slope, intercept, rvalue, pvalue, stderr = stats.linregress(x_values, y_values)\n",
    "fit = slope * x_values + intercept\n",
    "\n",
    "# Build the plot\n",
    "plt.scatter(x_values, y_values, color=\"lightcoral\", alpha=0.5)\n",
    "plt.plot(x_values,fit,\"--\")\n",
    "plt.title('Northern Hemisphere - Cloudiness (%) vs. Latitude Linear Regression')\n",
    "plt.xlabel('Latitude')\n",
    "plt.ylabel('Cloudiness (%)')\n",
    "print(f\"The r-squared is: {rvalue**2}\")\n",
    "\n",
    "# Show plot\n",
    "plt.show()\n",
    "\n",
    "# Save a copy of the plot\n",
    "plt.savefig(\"nhem_lat_vs_cloud_plot.png\")"
   ]
  },
  {
   "cell_type": "markdown",
   "metadata": {},
   "source": [
    "####  Southern Hemisphere - Cloudiness (%) vs. Latitude Linear Regression"
   ]
  },
  {
   "cell_type": "code",
   "execution_count": 80,
   "metadata": {},
   "outputs": [
    {
     "name": "stdout",
     "output_type": "stream",
     "text": [
      "The r-squared is: 0.00277320606115922\n"
     ]
    },
    {
     "data": {
      "image/png": "[encoded data removed]",
      "text/plain": [
       "<Figure size 432x288 with 1 Axes>"
      ]
     },
     "metadata": {
      "needs_background": "light"
     },
     "output_type": "display_data"
    },
    {
     "data": {
      "text/plain": [
       "<Figure size 432x288 with 0 Axes>"
      ]
     },
     "metadata": {},
     "output_type": "display_data"
    }
   ],
   "source": [
    "# Define the x and y values in the southern hemisphere\n",
    "x_values = south_hem_df['Latitude']\n",
    "y_values = south_hem_df['Cloudiness']\n",
    "\n",
    "# Calculating the pivitol stats\n",
    "slope, intercept, rvalue, pvalue, stderr = stats.linregress(x_values, y_values)\n",
    "fit = slope * x_values + intercept\n",
    "\n",
    "# Build the plot\n",
    "plt.scatter(x_values, y_values, color=\"lightcoral\", alpha=0.5)\n",
    "plt.plot(x_values,fit,\"--\")\n",
    "plt.title('Southern Hemisphere - Cloudiness (%) vs. Latitude Linear Regression')\n",
    "plt.xlabel('Latitude')\n",
    "plt.ylabel('Cloudiness (%)')\n",
    "print(f\"The r-squared is: {rvalue**2}\")\n",
    "\n",
    "# Show plot\n",
    "plt.show()\n",
    "\n",
    "# Save a copy of the plot\n",
    "plt.savefig(\"shem_lat_vs_cloud_plot.png\")"
   ]
  },
  {
   "cell_type": "markdown",
   "metadata": {},
   "source": [
    "####  Northern Hemisphere - Wind Speed (mph) vs. Latitude Linear Regression"
   ]
  },
  {
   "cell_type": "code",
   "execution_count": 81,
   "metadata": {},
   "outputs": [
    {
     "name": "stdout",
     "output_type": "stream",
     "text": [
      "The r-squared is: 0.002716411633372958\n"
     ]
    },
    {
     "data": {
      "image/png": "[encoded data removed]",
      "text/plain": [
       "<Figure size 432x288 with 1 Axes>"
      ]
     },
     "metadata": {
      "needs_background": "light"
     },
     "output_type": "display_data"
    },
    {
     "data": {
      "text/plain": [
       "<Figure size 432x288 with 0 Axes>"
      ]
     },
     "metadata": {},
     "output_type": "display_data"
    }
   ],
   "source": [
    "# Define the x and y values in the northern hemisphere\n",
    "x_values = north_hem_df['Latitude']\n",
    "y_values = north_hem_df['Wind Speed']\n",
    "\n",
    "# Calculating the pivitol stats\n",
    "slope, intercept, rvalue, pvalue, stderr = stats.linregress(x_values, y_values)\n",
    "fit = slope * x_values + intercept\n",
    "\n",
    "# Build the plot\n",
    "plt.scatter(x_values, y_values, color=\"lightcoral\", alpha=0.5)\n",
    "plt.plot(x_values,fit,\"--\")\n",
    "plt.title('Northern Hemisphere - Wind Speed (mph) vs. Latitude Linear Regression')\n",
    "plt.xlabel('Latitude')\n",
    "plt.ylabel('Wind Speed (MPH)')\n",
    "print(f\"The r-squared is: {rvalue**2}\")\n",
    "\n",
    "# Show plot\n",
    "plt.show()\n",
    "\n",
    "# Save a copy of the plot\n",
    "plt.savefig(\"nhem_lat_vs_wind_plot.png\")"
   ]
  },
  {
   "cell_type": "markdown",
   "metadata": {},
   "source": [
    "####  Southern Hemisphere - Wind Speed (mph) vs. Latitude Linear Regression"
   ]
  },
  {
   "cell_type": "code",
   "execution_count": 82,
   "metadata": {},
   "outputs": [
    {
     "name": "stdout",
     "output_type": "stream",
     "text": [
      "The r-squared is: 0.002024585579135627\n"
     ]
    },
    {
     "data": {
      "image/png": "[encoded data removed]",
      "text/plain": [
       "<Figure size 432x288 with 1 Axes>"
      ]
     },
     "metadata": {
      "needs_background": "light"
     },
     "output_type": "display_data"
    },
    {
     "data": {
      "text/plain": [
       "<Figure size 432x288 with 0 Axes>"
      ]
     },
     "metadata": {},
     "output_type": "display_data"
    }
   ],
   "source": [
    "# Define the x and y values in the southern hemisphere\n",
    "x_values = south_hem_df['Latitude']\n",
    "y_values = south_hem_df['Wind Speed']\n",
    "\n",
    "# Calculating the pivitol stats\n",
    "slope, intercept, rvalue, pvalue, stderr = stats.linregress(x_values, y_values)\n",
    "fit = slope * x_values + intercept\n",
    "\n",
    "# Build the plot\n",
    "plt.scatter(x_values, y_values, color=\"lightcoral\", alpha=0.5)\n",
    "plt.plot(x_values,fit,\"--\")\n",
    "plt.title('Southern Hemisphere - Wind Speed (mph) vs. Latitude Linear Regression')\n",
    "plt.xlabel('Latitude')\n",
    "plt.ylabel('Wind Speed (MPH)')\n",
    "print(f\"The r-squared is: {rvalue**2}\")\n",
    "\n",
    "# Show plot\n",
    "plt.show()\n",
    "\n",
    "# Save a copy of the plot\n",
    "plt.savefig(\"shem_lat_vs_wind_plot.png\")"
   ]
  },
  {
   "cell_type": "code",
   "execution_count": null,
   "metadata": {},
   "outputs": [],
   "source": []
  }
 ],
 "metadata": {
  "anaconda-cloud": {},
  "kernel_info": {
   "name": "python3"
  },
  "kernelspec": {
   "display_name": "Python 3",
   "language": "python",
   "name": "python3"
  },
  "language_info": {
   "codemirror_mode": {
    "name": "ipython",
    "version": 3
   },
   "file_extension": ".py",
   "mimetype": "text/x-python",
   "name": "python",
   "nbconvert_exporter": "python",
   "pygments_lexer": "ipython3",
   "version": "3.6.10"
  },
  "latex_envs": {
   "LaTeX_envs_menu_present": true,
   "autoclose": false,
   "autocomplete": true,
   "bibliofile": "biblio.bib",
   "cite_by": "apalike",
   "current_citInitial": 1,
   "eqLabelWithNumbers": true,
   "eqNumInitial": 1,
   "hotkeys": {
    "equation": "Ctrl-E",
    "itemize": "Ctrl-I"
   },
   "labels_anchors": false,
   "latex_user_defs": false,
   "report_style_numbering": false,
   "user_envs_cfg": false
  },
  "nteract": {
   "version": "0.12.3"
  }
 },
 "nbformat": 4,
 "nbformat_minor": 2
}
